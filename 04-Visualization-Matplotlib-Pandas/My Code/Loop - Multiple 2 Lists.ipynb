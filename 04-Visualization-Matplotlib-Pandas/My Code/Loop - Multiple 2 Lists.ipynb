{
 "cells": [
  {
   "cell_type": "code",
   "execution_count": 2,
   "metadata": {},
   "outputs": [
    {
     "name": "stdout",
     "output_type": "stream",
     "text": [
      "[8, 16, 18, 16, 32, 36, 24, 48, 54]\n"
     ]
    }
   ],
   "source": [
    "lst1 = [2,4,6]\n",
    "lst2 = [4,8,9]\n",
    "new_lst = []\n",
    "\n",
    "for i in lst1:\n",
    "    # i will equal 2\n",
    "    for j in lst2:\n",
    "        #we will now loop through all of lst2 with number 2 from lst1 fixed before moving onto the next number in lst1\n",
    "        new_lst.append(i*j)\n",
    "\n",
    "print(new_lst)   "
   ]
  },
  {
   "cell_type": "code",
   "execution_count": 3,
   "metadata": {},
   "outputs": [
    {
     "data": {
      "text/plain": [
       "[(2, 4), (4, 8), (6, 9)]"
      ]
     },
     "execution_count": 3,
     "metadata": {},
     "output_type": "execute_result"
    }
   ],
   "source": [
    "list(zip(lst1,lst2))"
   ]
  },
  {
   "cell_type": "code",
   "execution_count": null,
   "metadata": {},
   "outputs": [],
   "source": []
  }
 ],
 "metadata": {
  "kernelspec": {
   "display_name": "Python 3",
   "language": "python",
   "name": "python3"
  },
  "language_info": {
   "codemirror_mode": {
    "name": "ipython",
    "version": 3
   },
   "file_extension": ".py",
   "mimetype": "text/x-python",
   "name": "python",
   "nbconvert_exporter": "python",
   "pygments_lexer": "ipython3",
   "version": "3.6.4"
  }
 },
 "nbformat": 4,
 "nbformat_minor": 2
}
